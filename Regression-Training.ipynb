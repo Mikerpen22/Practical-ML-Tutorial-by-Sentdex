{
 "cells": [
  {
   "cell_type": "markdown",
   "id": "dfbaf882",
   "metadata": {},
   "source": [
    "## **From last episode**"
   ]
  },
  {
   "cell_type": "code",
   "execution_count": 1,
   "id": "8ca957c8",
   "metadata": {},
   "outputs": [
    {
     "name": "stdout",
     "output_type": "stream",
     "text": [
      "Original DataFrame:\n",
      "\n",
      "             Open   High   Low  Close     Volume  Ex-Dividend  Split Ratio  \\\n",
      "Date                                                                         \n",
      "1986-03-13  25.50  29.25  25.5  28.00  3582600.0          0.0          1.0   \n",
      "1986-03-14  28.00  29.50  28.0  29.00  1070000.0          0.0          1.0   \n",
      "1986-03-17  29.00  29.75  29.0  29.50   462400.0          0.0          1.0   \n",
      "1986-03-18  29.50  29.75  28.5  28.75   235300.0          0.0          1.0   \n",
      "1986-03-19  28.75  29.00  28.0  28.25   166300.0          0.0          1.0   \n",
      "\n",
      "            Adj. Open  Adj. High  Adj. Low  Adj. Close   Adj. Volume  \n",
      "Date                                                                  \n",
      "1986-03-13   0.058941   0.067609  0.058941    0.064720  1.031789e+09  \n",
      "1986-03-14   0.064720   0.068187  0.064720    0.067031  3.081600e+08  \n",
      "1986-03-17   0.067031   0.068765  0.067031    0.068187  1.331712e+08  \n",
      "1986-03-18   0.068187   0.068765  0.065876    0.066454  6.776640e+07  \n",
      "1986-03-19   0.066454   0.067031  0.064720    0.065298  4.789440e+07  \n",
      "Modified DataFrame:\n",
      "\n"
     ]
    },
    {
     "data": {
      "text/html": [
       "<div>\n",
       "<style scoped>\n",
       "    .dataframe tbody tr th:only-of-type {\n",
       "        vertical-align: middle;\n",
       "    }\n",
       "\n",
       "    .dataframe tbody tr th {\n",
       "        vertical-align: top;\n",
       "    }\n",
       "\n",
       "    .dataframe thead th {\n",
       "        text-align: right;\n",
       "    }\n",
       "</style>\n",
       "<table border=\"1\" class=\"dataframe\">\n",
       "  <thead>\n",
       "    <tr style=\"text-align: right;\">\n",
       "      <th></th>\n",
       "      <th>Adj. Close</th>\n",
       "      <th>DayChangePct</th>\n",
       "      <th>HighLowPct</th>\n",
       "      <th>Adj. Volume</th>\n",
       "    </tr>\n",
       "    <tr>\n",
       "      <th>Date</th>\n",
       "      <th></th>\n",
       "      <th></th>\n",
       "      <th></th>\n",
       "      <th></th>\n",
       "    </tr>\n",
       "  </thead>\n",
       "  <tbody>\n",
       "    <tr>\n",
       "      <th>1986-03-13</th>\n",
       "      <td>0.064720</td>\n",
       "      <td>9.803922</td>\n",
       "      <td>14.705882</td>\n",
       "      <td>1.031789e+09</td>\n",
       "    </tr>\n",
       "    <tr>\n",
       "      <th>1986-03-14</th>\n",
       "      <td>0.067031</td>\n",
       "      <td>3.571429</td>\n",
       "      <td>5.357143</td>\n",
       "      <td>3.081600e+08</td>\n",
       "    </tr>\n",
       "    <tr>\n",
       "      <th>1986-03-17</th>\n",
       "      <td>0.068187</td>\n",
       "      <td>1.724138</td>\n",
       "      <td>2.586207</td>\n",
       "      <td>1.331712e+08</td>\n",
       "    </tr>\n",
       "    <tr>\n",
       "      <th>1986-03-18</th>\n",
       "      <td>0.066454</td>\n",
       "      <td>-2.542373</td>\n",
       "      <td>4.385965</td>\n",
       "      <td>6.776640e+07</td>\n",
       "    </tr>\n",
       "    <tr>\n",
       "      <th>1986-03-19</th>\n",
       "      <td>0.065298</td>\n",
       "      <td>-1.739130</td>\n",
       "      <td>3.571429</td>\n",
       "      <td>4.789440e+07</td>\n",
       "    </tr>\n",
       "  </tbody>\n",
       "</table>\n",
       "</div>"
      ],
      "text/plain": [
       "            Adj. Close  DayChangePct  HighLowPct   Adj. Volume\n",
       "Date                                                          \n",
       "1986-03-13    0.064720      9.803922   14.705882  1.031789e+09\n",
       "1986-03-14    0.067031      3.571429    5.357143  3.081600e+08\n",
       "1986-03-17    0.068187      1.724138    2.586207  1.331712e+08\n",
       "1986-03-18    0.066454     -2.542373    4.385965  6.776640e+07\n",
       "1986-03-19    0.065298     -1.739130    3.571429  4.789440e+07"
      ]
     },
     "execution_count": 1,
     "metadata": {},
     "output_type": "execute_result"
    }
   ],
   "source": [
    "import quandl\n",
    "import pandas as pd\n",
    "import numpy as np\n",
    "from sklearn import preprocessing, svm\n",
    "from sklearn.model_selection import train_test_split\n",
    "from sklearn.linear_model import LinearRegression\n",
    "\n",
    "quandl.ApiConfig.api_key = \"Hzq3sWp4zmh3syzmcNQA\"    ## set api_key to access quandl data\n",
    "\n",
    "df = quandl.get(\"WIKI/MSFT\")\n",
    "print(f'Original DataFrame:\\n')\n",
    "print(df.head())\n",
    "\n",
    "# Select only the split-adjusted column data\n",
    "df = df[['Adj. Open', 'Adj. Close', 'Adj. High', 'Adj. Low', 'Adj. Volume']]\n",
    "\n",
    "# To get more useful data\n",
    "# Add new percentage columns by manipulating current columns\n",
    "df['HighLowPct'] = (df['Adj. High'] - df['Adj. Low'])/ df['Adj. Low'] * 100.0\n",
    "df['DayChangePct'] = (df['Adj. Close'] - df['Adj. Open'])/ df['Adj. Open'] * 100.0\n",
    "\n",
    "# Agian, select these new columns along w/ the volume column\n",
    "df = df[['Adj. Close', 'DayChangePct', 'HighLowPct', 'Adj. Volume']]\n",
    "print(f'Modified DataFrame:\\n')\n",
    "df.head()"
   ]
  },
  {
   "cell_type": "code",
   "execution_count": 2,
   "id": "7757a3be",
   "metadata": {},
   "outputs": [
    {
     "data": {
      "text/html": [
       "<div>\n",
       "<style scoped>\n",
       "    .dataframe tbody tr th:only-of-type {\n",
       "        vertical-align: middle;\n",
       "    }\n",
       "\n",
       "    .dataframe tbody tr th {\n",
       "        vertical-align: top;\n",
       "    }\n",
       "\n",
       "    .dataframe thead th {\n",
       "        text-align: right;\n",
       "    }\n",
       "</style>\n",
       "<table border=\"1\" class=\"dataframe\">\n",
       "  <thead>\n",
       "    <tr style=\"text-align: right;\">\n",
       "      <th></th>\n",
       "      <th>Adj. Close</th>\n",
       "      <th>DayChangePct</th>\n",
       "      <th>HighLowPct</th>\n",
       "      <th>Adj. Volume</th>\n",
       "      <th>label</th>\n",
       "    </tr>\n",
       "    <tr>\n",
       "      <th>Date</th>\n",
       "      <th></th>\n",
       "      <th></th>\n",
       "      <th></th>\n",
       "      <th></th>\n",
       "      <th></th>\n",
       "    </tr>\n",
       "  </thead>\n",
       "  <tbody>\n",
       "    <tr>\n",
       "      <th>1986-03-13</th>\n",
       "      <td>0.064720</td>\n",
       "      <td>9.803922</td>\n",
       "      <td>14.705882</td>\n",
       "      <td>1.031789e+09</td>\n",
       "      <td>0.064720</td>\n",
       "    </tr>\n",
       "    <tr>\n",
       "      <th>1986-03-14</th>\n",
       "      <td>0.067031</td>\n",
       "      <td>3.571429</td>\n",
       "      <td>5.357143</td>\n",
       "      <td>3.081600e+08</td>\n",
       "      <td>0.062986</td>\n",
       "    </tr>\n",
       "    <tr>\n",
       "      <th>1986-03-17</th>\n",
       "      <td>0.068187</td>\n",
       "      <td>1.724138</td>\n",
       "      <td>2.586207</td>\n",
       "      <td>1.331712e+08</td>\n",
       "      <td>0.064720</td>\n",
       "    </tr>\n",
       "    <tr>\n",
       "      <th>1986-03-18</th>\n",
       "      <td>0.066454</td>\n",
       "      <td>-2.542373</td>\n",
       "      <td>4.385965</td>\n",
       "      <td>6.776640e+07</td>\n",
       "      <td>0.063842</td>\n",
       "    </tr>\n",
       "    <tr>\n",
       "      <th>1986-03-19</th>\n",
       "      <td>0.065298</td>\n",
       "      <td>-1.739130</td>\n",
       "      <td>3.571429</td>\n",
       "      <td>4.789440e+07</td>\n",
       "      <td>0.064720</td>\n",
       "    </tr>\n",
       "  </tbody>\n",
       "</table>\n",
       "</div>"
      ],
      "text/plain": [
       "            Adj. Close  DayChangePct  HighLowPct   Adj. Volume     label\n",
       "Date                                                                    \n",
       "1986-03-13    0.064720      9.803922   14.705882  1.031789e+09  0.064720\n",
       "1986-03-14    0.067031      3.571429    5.357143  3.081600e+08  0.062986\n",
       "1986-03-17    0.068187      1.724138    2.586207  1.331712e+08  0.064720\n",
       "1986-03-18    0.066454     -2.542373    4.385965  6.776640e+07  0.063842\n",
       "1986-03-19    0.065298     -1.739130    3.571429  4.789440e+07  0.064720"
      ]
     },
     "execution_count": 2,
     "metadata": {},
     "output_type": "execute_result"
    }
   ],
   "source": [
    "import math\n",
    "\n",
    "# Add a label column for our prediction, also fill in some already known data by shifting\n",
    "predict_col = 'Adj. Close'                    ## what do you want to predict\n",
    "df.fillna(value=-99999, inplace=True)\n",
    "days_to_predict = int(math.ceil(0.01*len(df)))    ## How many days do you want to predict\n",
    "\n",
    "df['label'] = df[predict_col].shift(-days_to_predict)    ## Q) Shifting? Why not just delete the last 20 data?\n",
    "df.dropna(inplace=True)\n",
    "df.head()"
   ]
  },
  {
   "cell_type": "markdown",
   "id": "85cccf88",
   "metadata": {},
   "source": [
    "### **Preprocessing**\n",
    "1. Define Feature and Label\n",
    "2. Split data into training set & testing set\n",
    "3. [Scale](https://scikit-learn.org/stable/modules/generated/sklearn.preprocessing.scale.html) \"training data\" --> Standardize a dataset along any axis"
   ]
  },
  {
   "cell_type": "code",
   "execution_count": 3,
   "id": "996e2f0d",
   "metadata": {},
   "outputs": [
    {
     "name": "stdout",
     "output_type": "stream",
     "text": [
      "[6.47199796e-02 9.80392157e+00 1.47058824e+01 1.03178880e+09] & 0.064719979622\n"
     ]
    }
   ],
   "source": [
    "# It's typical in ML code to define:\n",
    "# X as the features, and y as the label\n",
    "X = np.array(df.drop(['label'], axis=1))\n",
    "y = np.array(df['label'])\n",
    "print(f'{X[0]} & {y[0]}')\n",
    "\n",
    "# Scale the feature data\n",
    "X = preprocessing.scale(X)\n",
    "\n",
    "# Split into training set and testing set\n",
    "X_train, X_test, y_train, y_test = train_test_split(X, y, test_size=0.2)"
   ]
  },
  {
   "cell_type": "markdown",
   "id": "eed9e295",
   "metadata": {
    "tags": []
   },
   "source": [
    "### **Training**\n",
    "1. Choose your model\n",
    "2. Fit training features and training labels\n",
    "3. Test accuracy\n"
   ]
  },
  {
   "cell_type": "code",
   "execution_count": 4,
   "id": "38ce6755",
   "metadata": {},
   "outputs": [
    {
     "data": {
      "text/plain": [
       "SVR(kernel='linear')"
      ]
     },
     "execution_count": 4,
     "metadata": {},
     "output_type": "execute_result"
    }
   ],
   "source": [
    "svm_model = svm.SVR(kernel='linear')\n",
    "svm_model.fit(X_train, y_train)"
   ]
  },
  {
   "cell_type": "code",
   "execution_count": 5,
   "id": "9f0920bf",
   "metadata": {},
   "outputs": [
    {
     "name": "stdout",
     "output_type": "stream",
     "text": [
      "svm_accuracy = 0.9709449682704259\n"
     ]
    }
   ],
   "source": [
    "svm_accuracy = svm_model.score(X_test, y_test)\n",
    "print(f'svm_accuracy = {svm_accuracy}')"
   ]
  },
  {
   "cell_type": "code",
   "execution_count": 6,
   "id": "8afecb58",
   "metadata": {},
   "outputs": [
    {
     "name": "stdout",
     "output_type": "stream",
     "text": [
      "LR_accuracy = 0.9712773547127478\n"
     ]
    }
   ],
   "source": [
    "LR_model = LinearRegression()\n",
    "LR_model.fit(X_train, y_train)\n",
    "\n",
    "LR_accuracy = LR_model.score(X_test, y_test)\n",
    "print(f'LR_accuracy = {LR_accuracy}')"
   ]
  },
  {
   "cell_type": "markdown",
   "id": "6bde89d0",
   "metadata": {},
   "source": [
    "- Some of the ML algorithms will process one step at a time, with no threading, others can thread and use all the CPU cores available\n",
    "    - If it has **n_jobs**, you have an algorithm that can be threaded for high performance. If not, tough luck! Thus, if you are processing massive amounts of data, or you need to process medium data but at a very high rate of speed, then you would want something threaded.\n",
    "    - svm don't support thread, LR does!"
   ]
  },
  {
   "cell_type": "code",
   "execution_count": 7,
   "id": "3625e4ff",
   "metadata": {},
   "outputs": [
    {
     "name": "stdout",
     "output_type": "stream",
     "text": [
      "LR_threaded_accuracy = 0.9712773547127478\n"
     ]
    }
   ],
   "source": [
    "LR_model_threaded = LinearRegression(n_jobs=-1)\n",
    "LR_model_threaded.fit(X_train, y_train)\n",
    "\n",
    "LR_model_threaded_acc = LR_model_threaded.score(X_test, y_test)\n",
    "print(f'LR_threaded_accuracy = {LR_model_threaded_acc}')"
   ]
  },
  {
   "cell_type": "markdown",
   "id": "34c2f0d2",
   "metadata": {},
   "source": [
    "## **Forecasting**\n",
    "- Use our model to do some predictions!\n",
    "- Since we're forcasting 1% of the data, we will want to \"at least\" generate forecasts for each of the final 1% of the dataset.\n",
    "    - When can we do this? When would we identify that data? We could call it now, but consider the data we're trying to forecast is not scaled like the training data was...\n",
    "    - The scale method scales based on all of the known data that is fed into it. **Ideally, you would scale both the training, testing, AND forecast/predicting data all together**\n",
    "    -  In our case, we can do it now. Our data is small and the processing time is low enough, so we'll preprocess and scale the data all at once.\n",
    "        - In many cases, you WONT be able to do this. Imagine if you were using gigabytes of data to train a classifier. It may take days to train your classifier, you wouldn't want to be doing this every...single...time you wanted to make a prediction ==>  Thus, you may need to **either NOT scale anything, or you may scale the data separately**\n",
    "        \n",
    "With the above in mind, let's handle all of the rows from the definition of X onward:"
   ]
  },
  {
   "cell_type": "markdown",
   "id": "834d3b1c",
   "metadata": {},
   "source": [
    "- **Rerun from the beginning since we're redefining our X as X[:-forecast_out]**\n",
    "\n",
    "    - **Take all data, preprocess it, then split it up**\n",
    "    - **X_lately variable contains the most recent features**, which we're going to predict against"
   ]
  },
  {
   "cell_type": "code",
   "execution_count": 8,
   "id": "15b4ff18",
   "metadata": {},
   "outputs": [],
   "source": [
    "# Re-import some of the modules used\n",
    "import quandl\n",
    "import pandas as pd\n",
    "import numpy as np\n",
    "import math\n",
    "from sklearn import preprocessing, svm\n",
    "from sklearn.model_selection import train_test_split\n",
    "from sklearn.linear_model import LinearRegression"
   ]
  },
  {
   "cell_type": "code",
   "execution_count": 9,
   "id": "269a1bae",
   "metadata": {},
   "outputs": [
    {
     "name": "stdout",
     "output_type": "stream",
     "text": [
      "3389 & 3389\n"
     ]
    }
   ],
   "source": [
    "quandl.ApiConfig.api_key = \"Hzq3sWp4zmh3syzmcNQA\"\n",
    "\n",
    "df = quandl.get(\"WIKI/GOOGL\")\n",
    "df = df[['Adj. Open',  'Adj. High',  'Adj. Low',  'Adj. Close', 'Adj. Volume']]\n",
    "df['HL_PCT'] = (df['Adj. High'] - df['Adj. Low']) / df['Adj. Close'] * 100.0\n",
    "df['PCT_change'] = (df['Adj. Close'] - df['Adj. Open']) / df['Adj. Open'] * 100.0\n",
    "\n",
    "df = df[['Adj. Close', 'HL_PCT', 'PCT_change', 'Adj. Volume']]\n",
    "forecast_col = 'Adj. Close'\n",
    "df.fillna(value=-99999, inplace=True)\n",
    "forecast_out = int(math.ceil(0.01 * len(df)))\n",
    "df['label'] = df[forecast_col].shift(-forecast_out)\n",
    "\n",
    "X = np.array(df.drop(['label'], 1))\n",
    "X = preprocessing.scale(X)\n",
    "X_lately = X[-forecast_out:]\n",
    "X = X[:-forecast_out]\n",
    "\n",
    "df.dropna(inplace=True)\n",
    "\n",
    "y = np.array(df['label'])\n",
    "\n",
    "print(f'{len(X)} & {len(y)}')"
   ]
  },
  {
   "cell_type": "code",
   "execution_count": 10,
   "id": "ae43e051",
   "metadata": {},
   "outputs": [
    {
     "name": "stdout",
     "output_type": "stream",
     "text": [
      "0.9794210785883601\n"
     ]
    }
   ],
   "source": [
    "X_train, X_test, y_train, y_test = train_test_split(X, y, test_size=0.2)\n",
    "LR_model_2 = LinearRegression(n_jobs=-1)\n",
    "LR_model_2.fit(X_train, y_train)\n",
    "\n",
    "LR_model_2_acc = LR_model_2.score(X_test, y_test)\n",
    "print(LR_model_2_acc)"
   ]
  },
  {
   "cell_type": "markdown",
   "id": "7d15b4b7",
   "metadata": {},
   "source": [
    "## **Predicting**"
   ]
  },
  {
   "cell_type": "code",
   "execution_count": 11,
   "id": "851288b2",
   "metadata": {},
   "outputs": [
    {
     "name": "stdout",
     "output_type": "stream",
     "text": [
      "[1104.65072797 1072.96503156 1019.0397463  1061.21376527 1074.26532812\n",
      " 1074.92041952 1093.58301586 1111.90185334 1116.40971138 1124.5249565\n",
      " 1134.23216198 1130.35163749 1149.74689459 1165.95664127 1136.56950445\n",
      " 1123.26986568 1087.90731587 1104.71259522 1115.77940205 1122.30473239\n",
      " 1136.74623942 1151.51647357 1182.87657227 1187.47801952 1158.00215861\n",
      " 1170.45657342 1171.62506215 1153.93997701 1118.82153557 1115.84060778\n",
      " 1114.53888537 1070.39604439 1043.25083031 1072.00162692 1019.7259753 ]\n",
      "0.9794210785883601 35\n"
     ]
    }
   ],
   "source": [
    "predict_set = LR_model_2.predict(X_lately)\n",
    "\n",
    "print(predict_set)\n",
    "print(LR_model_2_acc, forecast_out)"
   ]
  },
  {
   "cell_type": "markdown",
   "id": "3eacb548",
   "metadata": {},
   "source": [
    "## **Visualizing**\n",
    "- prices are daily, for 5 days, and no prices on the weekends => We choose to keep it simple by just plotting it out without considering weekend gaps"
   ]
  },
  {
   "cell_type": "code",
   "execution_count": 12,
   "id": "e30c7d30",
   "metadata": {},
   "outputs": [],
   "source": [
    "import datetime\n",
    "import matplotlib.pyplot as plt\n",
    "from matplotlib import style"
   ]
  },
  {
   "cell_type": "code",
   "execution_count": 13,
   "id": "4836f9c6",
   "metadata": {},
   "outputs": [],
   "source": [
    "style.use('ggplot')"
   ]
  },
  {
   "cell_type": "markdown",
   "id": "d1665f05",
   "metadata": {},
   "source": [
    "Next, we're going to add a new column to our dataframe, **the forecast column**:"
   ]
  },
  {
   "cell_type": "code",
   "execution_count": 14,
   "id": "c3f9a058",
   "metadata": {},
   "outputs": [],
   "source": [
    "df['Forecast'] = np.NaN"
   ]
  },
  {
   "cell_type": "markdown",
   "id": "5bdd149a",
   "metadata": {},
   "source": [
    "- set the value as a NaN first, but we'll populate some shortly\n",
    "- We said we're going to start the forecasts as of tomorrow \n",
    "    - Recall that we predict 10% out into the future, and we saved the last 10% of our data to do this, thus, we can begin immediately predicting since -10% has data that we can predict 10% out and be the next prediction). \n",
    " \n",
    "    - We need to:\n",
    "        1. first **grab the last day in the dataframe**\n",
    "        2. begin **assigning each new forecast to a new day**"
   ]
  },
  {
   "cell_type": "code",
   "execution_count": 15,
   "id": "c91e5698",
   "metadata": {},
   "outputs": [
    {
     "data": {
      "text/plain": [
       "Adj. Close     1.068760e+03\n",
       "HL_PCT         5.450241e+00\n",
       "PCT_change    -2.893850e+00\n",
       "Adj. Volume    3.742469e+06\n",
       "label          1.006940e+03\n",
       "Forecast                NaN\n",
       "Name: 2018-02-05 00:00:00, dtype: float64"
      ]
     },
     "execution_count": 15,
     "metadata": {},
     "output_type": "execute_result"
    }
   ],
   "source": [
    "df.iloc[-1]    # Select the last row with iloc[-1]"
   ]
  },
  {
   "cell_type": "code",
   "execution_count": 16,
   "id": "5c5dc2da",
   "metadata": {},
   "outputs": [],
   "source": [
    "DAY_TO_SEC = 86400\n",
    "\n",
    "latest_date = df.iloc[-1].name\n",
    "latest_date_unix = latest_date.timestamp()\n",
    "next_date_unix = latest_date_unix + DAY_TO_SEC*1    # Get the next day's unix timestamp"
   ]
  },
  {
   "cell_type": "markdown",
   "id": "115bd339",
   "metadata": {},
   "source": [
    "Now we add the forecast to the existing dataframe\n",
    "\n",
    "All we're doing is:\n",
    "   1. iterating through the forecast set\n",
    "   2. taking each forecast and day, and then setting those values in the dataframe (making the future \"features\" NaNs). \n",
    "   3. The last line's code just simply takes all of the first columns, setting them to NaNs, and then the final column is whatever i is (the forecast in this case)"
   ]
  },
  {
   "cell_type": "code",
   "execution_count": 17,
   "id": "ff19aac6",
   "metadata": {},
   "outputs": [
    {
     "name": "stdout",
     "output_type": "stream",
     "text": [
      "Current data till 2018-02-05 00:00:00\n",
      "next_date is 2018-02-06 08:00:00\n"
     ]
    }
   ],
   "source": [
    "# Logging the date\n",
    "print(f'Current data till {df.index.tolist()[-1]}')\n",
    "next_date = datetime.datetime.fromtimestamp(next_date_unix)\n",
    "print(f'next_date is {next_date}')\n",
    "\n",
    "\n",
    "for i in predict_set:\n",
    "    next_date = datetime.datetime.fromtimestamp(next_date_unix)\n",
    "    next_date_unix += DAY_TO_SEC\n",
    "    df.loc[next_date] = [np.nan for _ in range(len(df.columns)-1)] + [i]"
   ]
  },
  {
   "cell_type": "code",
   "execution_count": 18,
   "id": "1ea03160",
   "metadata": {},
   "outputs": [
    {
     "data": {
      "image/png": "[encoded data removed]",
      "text/plain": [
       "<Figure size 432x288 with 1 Axes>"
      ]
     },
     "metadata": {},
     "output_type": "display_data"
    }
   ],
   "source": [
    "df['Adj. Close'].plot()\n",
    "df['Forecast'].plot()\n",
    "plt.legend(loc=4)\n",
    "plt.xlabel('Date')\n",
    "plt.ylabel('Price')\n",
    "plt.show()"
   ]
  },
  {
   "cell_type": "code",
   "execution_count": null,
   "id": "68c1ab63",
   "metadata": {},
   "outputs": [],
   "source": []
  }
 ],
 "metadata": {
  "kernelspec": {
   "display_name": "Python 3",
   "language": "python",
   "name": "python3"
  },
  "language_info": {
   "codemirror_mode": {
    "name": "ipython",
    "version": 3
   },
   "file_extension": ".py",
   "mimetype": "text/x-python",
   "name": "python",
   "nbconvert_exporter": "python",
   "pygments_lexer": "ipython3",
   "version": "3.9.2"
  }
 },
 "nbformat": 4,
 "nbformat_minor": 5
}
