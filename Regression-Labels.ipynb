{
 "cells": [
  {
   "cell_type": "code",
   "execution_count": 1,
   "id": "f5a2ab67",
   "metadata": {},
   "outputs": [
    {
     "data": {
      "text/html": [
       "<div>\n",
       "<style scoped>\n",
       "    .dataframe tbody tr th:only-of-type {\n",
       "        vertical-align: middle;\n",
       "    }\n",
       "\n",
       "    .dataframe tbody tr th {\n",
       "        vertical-align: top;\n",
       "    }\n",
       "\n",
       "    .dataframe thead th {\n",
       "        text-align: right;\n",
       "    }\n",
       "</style>\n",
       "<table border=\"1\" class=\"dataframe\">\n",
       "  <thead>\n",
       "    <tr style=\"text-align: right;\">\n",
       "      <th></th>\n",
       "      <th>Adj. Close</th>\n",
       "      <th>HL_PCT</th>\n",
       "      <th>PCT_Change</th>\n",
       "      <th>Adj. Volume</th>\n",
       "    </tr>\n",
       "    <tr>\n",
       "      <th>Date</th>\n",
       "      <th></th>\n",
       "      <th></th>\n",
       "      <th></th>\n",
       "      <th></th>\n",
       "    </tr>\n",
       "  </thead>\n",
       "  <tbody>\n",
       "    <tr>\n",
       "      <th>2010-06-29</th>\n",
       "      <td>23.89</td>\n",
       "      <td>42.531357</td>\n",
       "      <td>25.736842</td>\n",
       "      <td>18766300.0</td>\n",
       "    </tr>\n",
       "    <tr>\n",
       "      <th>2010-06-30</th>\n",
       "      <td>23.83</td>\n",
       "      <td>30.554506</td>\n",
       "      <td>-7.599845</td>\n",
       "      <td>17187100.0</td>\n",
       "    </tr>\n",
       "    <tr>\n",
       "      <th>2010-07-01</th>\n",
       "      <td>21.96</td>\n",
       "      <td>27.873705</td>\n",
       "      <td>-12.160000</td>\n",
       "      <td>8218800.0</td>\n",
       "    </tr>\n",
       "    <tr>\n",
       "      <th>2010-07-02</th>\n",
       "      <td>19.20</td>\n",
       "      <td>23.463389</td>\n",
       "      <td>-16.521739</td>\n",
       "      <td>5139800.0</td>\n",
       "    </tr>\n",
       "    <tr>\n",
       "      <th>2010-07-06</th>\n",
       "      <td>16.11</td>\n",
       "      <td>26.342388</td>\n",
       "      <td>-19.450000</td>\n",
       "      <td>6866900.0</td>\n",
       "    </tr>\n",
       "  </tbody>\n",
       "</table>\n",
       "</div>"
      ],
      "text/plain": [
       "            Adj. Close     HL_PCT  PCT_Change  Adj. Volume\n",
       "Date                                                      \n",
       "2010-06-29       23.89  42.531357   25.736842   18766300.0\n",
       "2010-06-30       23.83  30.554506   -7.599845   17187100.0\n",
       "2010-07-01       21.96  27.873705  -12.160000    8218800.0\n",
       "2010-07-02       19.20  23.463389  -16.521739    5139800.0\n",
       "2010-07-06       16.11  26.342388  -19.450000    6866900.0"
      ]
     },
     "execution_count": 1,
     "metadata": {},
     "output_type": "execute_result"
    }
   ],
   "source": [
    "import quandl\n",
    "import pandas as pd\n",
    "\n",
    "quandl.ApiConfig.api_key = \"Hzq3sWp4zmh3syzmcNQA\"\n",
    "\n",
    "df = quandl.get('WIKI/TSLA')\n",
    "df = df[['Adj. Open', 'Adj. High', 'Adj. Low', 'Adj. Close', 'Adj. Volume']]\n",
    "df['HL_PCT'] = (df['Adj. High'] - df['Adj. Low']) / df['Adj. Low'] * 100.0\n",
    "df['PCT_Change'] = (df['Adj. Close'] - df['Adj. Open']) / df['Adj. Open'] * 100.0\n",
    "df = df[['Adj. Close', 'HL_PCT','PCT_Change', 'Adj. Volume']]\n",
    "df.head()"
   ]
  },
  {
   "cell_type": "markdown",
   "id": "4f0688e2",
   "metadata": {},
   "source": [
    "Now that we retrieved the data, decided on valuable data we want, and created some extra data through basic manipulation, we're ready to ML!!"
   ]
  },
  {
   "cell_type": "code",
   "execution_count": 18,
   "id": "d153064c",
   "metadata": {},
   "outputs": [],
   "source": [
    "import math\n",
    "import numpy as np\n",
    "import pandas as pd\n",
    "from sklearn import preprocessing, svm\n",
    "from sklearn.model_selection import train_test_split\n",
    "from sklearn.linear_model import LinearRegression"
   ]
  },
  {
   "cell_type": "markdown",
   "id": "a5966cc9",
   "metadata": {},
   "source": [
    "### Modules used\n",
    "- **numpy** to convert data to numpy arrays for scikit-learn to use\n",
    "- **sklearn.preprocessing** is the module used to do some cleaning & scaling of data before ML\n",
    "- Import **LinearRegression** algorithm & **svm** from sklearn"
   ]
  },
  {
   "cell_type": "markdown",
   "id": "756e1ab9",
   "metadata": {},
   "source": [
    "### With supervised learning, you have features and labels:\n",
    "- Features: descriptive attributes      <- Data we have\n",
    "- labels: what we're trying to predict  <- Future price in our case\n",
    "\n",
    " Let's go ahead and add a few new rows:\n",
    "- Define the predicting column\n",
    "- fill NaN/ missing data with -99999\n",
    "    - With many ML classfiers, this will just be treated as insignificant data\n",
    "- Finally, define what you want to predict. -> we want to be able to predict not just one day but \"1% of the entire length of the dataset\" days!\n",
    "\n"
   ]
  },
  {
   "cell_type": "code",
   "execution_count": 6,
   "id": "082b186b",
   "metadata": {},
   "outputs": [
    {
     "data": {
      "text/plain": [
       "20"
      ]
     },
     "execution_count": 6,
     "metadata": {},
     "output_type": "execute_result"
    }
   ],
   "source": [
    "predict_col = 'Adj. Close'        # Our label(value we want to predict) is actually the Adj. Close price\n",
    "df.fillna(value=-99999, inplace=True)     # Handle missing data -> filled with -99999 will make most ML Classifiers avoid you\n",
    "predict_out = int(math.ceil(0.01*len(df)))\n",
    "predict_out    # How many days in the future do I want to predict --> 10% of the data points's length"
   ]
  },
  {
   "cell_type": "code",
   "execution_count": 11,
   "id": "5e78a2be",
   "metadata": {},
   "outputs": [
    {
     "data": {
      "text/html": [
       "<div>\n",
       "<style scoped>\n",
       "    .dataframe tbody tr th:only-of-type {\n",
       "        vertical-align: middle;\n",
       "    }\n",
       "\n",
       "    .dataframe tbody tr th {\n",
       "        vertical-align: top;\n",
       "    }\n",
       "\n",
       "    .dataframe thead th {\n",
       "        text-align: right;\n",
       "    }\n",
       "</style>\n",
       "<table border=\"1\" class=\"dataframe\">\n",
       "  <thead>\n",
       "    <tr style=\"text-align: right;\">\n",
       "      <th></th>\n",
       "      <th>Adj. Close</th>\n",
       "      <th>HL_PCT</th>\n",
       "      <th>PCT_Change</th>\n",
       "      <th>Adj. Volume</th>\n",
       "      <th>label</th>\n",
       "    </tr>\n",
       "    <tr>\n",
       "      <th>Date</th>\n",
       "      <th></th>\n",
       "      <th></th>\n",
       "      <th></th>\n",
       "      <th></th>\n",
       "      <th></th>\n",
       "    </tr>\n",
       "  </thead>\n",
       "  <tbody>\n",
       "    <tr>\n",
       "      <th>2018-02-13</th>\n",
       "      <td>323.660</td>\n",
       "      <td>3.737314</td>\n",
       "      <td>2.742683</td>\n",
       "      <td>4506915.0</td>\n",
       "      <td>326.63</td>\n",
       "    </tr>\n",
       "    <tr>\n",
       "      <th>2018-02-14</th>\n",
       "      <td>322.310</td>\n",
       "      <td>2.401733</td>\n",
       "      <td>0.458172</td>\n",
       "      <td>3930911.0</td>\n",
       "      <td>325.60</td>\n",
       "    </tr>\n",
       "    <tr>\n",
       "      <th>2018-02-15</th>\n",
       "      <td>334.065</td>\n",
       "      <td>3.635236</td>\n",
       "      <td>2.947612</td>\n",
       "      <td>5892048.0</td>\n",
       "      <td>321.35</td>\n",
       "    </tr>\n",
       "    <tr>\n",
       "      <th>2018-02-16</th>\n",
       "      <td>335.490</td>\n",
       "      <td>3.461585</td>\n",
       "      <td>0.899248</td>\n",
       "      <td>5585810.0</td>\n",
       "      <td>313.56</td>\n",
       "    </tr>\n",
       "    <tr>\n",
       "      <th>2018-02-20</th>\n",
       "      <td>334.770</td>\n",
       "      <td>2.817496</td>\n",
       "      <td>0.089694</td>\n",
       "      <td>3996951.0</td>\n",
       "      <td>310.55</td>\n",
       "    </tr>\n",
       "    <tr>\n",
       "      <th>2018-02-21</th>\n",
       "      <td>333.300</td>\n",
       "      <td>1.957829</td>\n",
       "      <td>-0.812427</td>\n",
       "      <td>3181755.0</td>\n",
       "      <td>316.53</td>\n",
       "    </tr>\n",
       "    <tr>\n",
       "      <th>2018-02-22</th>\n",
       "      <td>346.170</td>\n",
       "      <td>3.790858</td>\n",
       "      <td>3.171102</td>\n",
       "      <td>6940349.0</td>\n",
       "      <td>309.10</td>\n",
       "    </tr>\n",
       "    <tr>\n",
       "      <th>2018-02-23</th>\n",
       "      <td>352.050</td>\n",
       "      <td>2.273120</td>\n",
       "      <td>1.213236</td>\n",
       "      <td>5790795.0</td>\n",
       "      <td>301.54</td>\n",
       "    </tr>\n",
       "    <tr>\n",
       "      <th>2018-02-26</th>\n",
       "      <td>357.420</td>\n",
       "      <td>1.885882</td>\n",
       "      <td>1.108911</td>\n",
       "      <td>4312871.0</td>\n",
       "      <td>304.18</td>\n",
       "    </tr>\n",
       "    <tr>\n",
       "      <th>2018-02-27</th>\n",
       "      <td>350.990</td>\n",
       "      <td>2.851347</td>\n",
       "      <td>-1.476491</td>\n",
       "      <td>4761537.0</td>\n",
       "      <td>279.18</td>\n",
       "    </tr>\n",
       "    <tr>\n",
       "      <th>2018-02-28</th>\n",
       "      <td>343.060</td>\n",
       "      <td>3.804570</td>\n",
       "      <td>-2.697337</td>\n",
       "      <td>6042895.0</td>\n",
       "      <td>NaN</td>\n",
       "    </tr>\n",
       "    <tr>\n",
       "      <th>2018-03-01</th>\n",
       "      <td>330.930</td>\n",
       "      <td>5.635168</td>\n",
       "      <td>-4.081041</td>\n",
       "      <td>6885601.0</td>\n",
       "      <td>NaN</td>\n",
       "    </tr>\n",
       "    <tr>\n",
       "      <th>2018-03-02</th>\n",
       "      <td>335.120</td>\n",
       "      <td>3.792922</td>\n",
       "      <td>2.489449</td>\n",
       "      <td>5092829.0</td>\n",
       "      <td>NaN</td>\n",
       "    </tr>\n",
       "    <tr>\n",
       "      <th>2018-03-05</th>\n",
       "      <td>333.350</td>\n",
       "      <td>2.568261</td>\n",
       "      <td>0.288817</td>\n",
       "      <td>3823769.0</td>\n",
       "      <td>NaN</td>\n",
       "    </tr>\n",
       "    <tr>\n",
       "      <th>2018-03-06</th>\n",
       "      <td>328.200</td>\n",
       "      <td>2.856007</td>\n",
       "      <td>-1.662921</td>\n",
       "      <td>4285744.0</td>\n",
       "      <td>NaN</td>\n",
       "    </tr>\n",
       "    <tr>\n",
       "      <th>2018-03-07</th>\n",
       "      <td>332.300</td>\n",
       "      <td>3.344315</td>\n",
       "      <td>2.107915</td>\n",
       "      <td>5007297.0</td>\n",
       "      <td>NaN</td>\n",
       "    </tr>\n",
       "    <tr>\n",
       "      <th>2018-03-08</th>\n",
       "      <td>329.100</td>\n",
       "      <td>2.153405</td>\n",
       "      <td>-1.129604</td>\n",
       "      <td>3476944.0</td>\n",
       "      <td>NaN</td>\n",
       "    </tr>\n",
       "    <tr>\n",
       "      <th>2018-03-09</th>\n",
       "      <td>327.170</td>\n",
       "      <td>1.898440</td>\n",
       "      <td>0.947239</td>\n",
       "      <td>5479716.0</td>\n",
       "      <td>NaN</td>\n",
       "    </tr>\n",
       "    <tr>\n",
       "      <th>2018-03-12</th>\n",
       "      <td>345.510</td>\n",
       "      <td>6.343032</td>\n",
       "      <td>5.142875</td>\n",
       "      <td>8212156.0</td>\n",
       "      <td>NaN</td>\n",
       "    </tr>\n",
       "    <tr>\n",
       "      <th>2018-03-13</th>\n",
       "      <td>341.840</td>\n",
       "      <td>2.633798</td>\n",
       "      <td>-0.892961</td>\n",
       "      <td>5932110.0</td>\n",
       "      <td>NaN</td>\n",
       "    </tr>\n",
       "    <tr>\n",
       "      <th>2018-03-14</th>\n",
       "      <td>326.630</td>\n",
       "      <td>4.902294</td>\n",
       "      <td>-3.008077</td>\n",
       "      <td>7932511.0</td>\n",
       "      <td>NaN</td>\n",
       "    </tr>\n",
       "    <tr>\n",
       "      <th>2018-03-15</th>\n",
       "      <td>325.600</td>\n",
       "      <td>3.659296</td>\n",
       "      <td>-1.147611</td>\n",
       "      <td>6366922.0</td>\n",
       "      <td>NaN</td>\n",
       "    </tr>\n",
       "    <tr>\n",
       "      <th>2018-03-16</th>\n",
       "      <td>321.350</td>\n",
       "      <td>2.610712</td>\n",
       "      <td>-1.414284</td>\n",
       "      <td>6058612.0</td>\n",
       "      <td>NaN</td>\n",
       "    </tr>\n",
       "    <tr>\n",
       "      <th>2018-03-19</th>\n",
       "      <td>313.560</td>\n",
       "      <td>3.578002</td>\n",
       "      <td>-0.928910</td>\n",
       "      <td>7440766.0</td>\n",
       "      <td>NaN</td>\n",
       "    </tr>\n",
       "    <tr>\n",
       "      <th>2018-03-20</th>\n",
       "      <td>310.550</td>\n",
       "      <td>2.425832</td>\n",
       "      <td>-1.371995</td>\n",
       "      <td>4726182.0</td>\n",
       "      <td>NaN</td>\n",
       "    </tr>\n",
       "    <tr>\n",
       "      <th>2018-03-21</th>\n",
       "      <td>316.530</td>\n",
       "      <td>3.949192</td>\n",
       "      <td>2.024174</td>\n",
       "      <td>5927881.0</td>\n",
       "      <td>NaN</td>\n",
       "    </tr>\n",
       "    <tr>\n",
       "      <th>2018-03-22</th>\n",
       "      <td>309.100</td>\n",
       "      <td>3.452528</td>\n",
       "      <td>-1.526012</td>\n",
       "      <td>4914307.0</td>\n",
       "      <td>NaN</td>\n",
       "    </tr>\n",
       "    <tr>\n",
       "      <th>2018-03-23</th>\n",
       "      <td>301.540</td>\n",
       "      <td>3.714428</td>\n",
       "      <td>-3.119679</td>\n",
       "      <td>6600538.0</td>\n",
       "      <td>NaN</td>\n",
       "    </tr>\n",
       "    <tr>\n",
       "      <th>2018-03-26</th>\n",
       "      <td>304.180</td>\n",
       "      <td>5.570428</td>\n",
       "      <td>-1.028177</td>\n",
       "      <td>8324639.0</td>\n",
       "      <td>NaN</td>\n",
       "    </tr>\n",
       "    <tr>\n",
       "      <th>2018-03-27</th>\n",
       "      <td>279.180</td>\n",
       "      <td>9.773432</td>\n",
       "      <td>-8.164474</td>\n",
       "      <td>13696168.0</td>\n",
       "      <td>NaN</td>\n",
       "    </tr>\n",
       "  </tbody>\n",
       "</table>\n",
       "</div>"
      ],
      "text/plain": [
       "            Adj. Close    HL_PCT  PCT_Change  Adj. Volume   label\n",
       "Date                                                             \n",
       "2018-02-13     323.660  3.737314    2.742683    4506915.0  326.63\n",
       "2018-02-14     322.310  2.401733    0.458172    3930911.0  325.60\n",
       "2018-02-15     334.065  3.635236    2.947612    5892048.0  321.35\n",
       "2018-02-16     335.490  3.461585    0.899248    5585810.0  313.56\n",
       "2018-02-20     334.770  2.817496    0.089694    3996951.0  310.55\n",
       "2018-02-21     333.300  1.957829   -0.812427    3181755.0  316.53\n",
       "2018-02-22     346.170  3.790858    3.171102    6940349.0  309.10\n",
       "2018-02-23     352.050  2.273120    1.213236    5790795.0  301.54\n",
       "2018-02-26     357.420  1.885882    1.108911    4312871.0  304.18\n",
       "2018-02-27     350.990  2.851347   -1.476491    4761537.0  279.18\n",
       "2018-02-28     343.060  3.804570   -2.697337    6042895.0     NaN\n",
       "2018-03-01     330.930  5.635168   -4.081041    6885601.0     NaN\n",
       "2018-03-02     335.120  3.792922    2.489449    5092829.0     NaN\n",
       "2018-03-05     333.350  2.568261    0.288817    3823769.0     NaN\n",
       "2018-03-06     328.200  2.856007   -1.662921    4285744.0     NaN\n",
       "2018-03-07     332.300  3.344315    2.107915    5007297.0     NaN\n",
       "2018-03-08     329.100  2.153405   -1.129604    3476944.0     NaN\n",
       "2018-03-09     327.170  1.898440    0.947239    5479716.0     NaN\n",
       "2018-03-12     345.510  6.343032    5.142875    8212156.0     NaN\n",
       "2018-03-13     341.840  2.633798   -0.892961    5932110.0     NaN\n",
       "2018-03-14     326.630  4.902294   -3.008077    7932511.0     NaN\n",
       "2018-03-15     325.600  3.659296   -1.147611    6366922.0     NaN\n",
       "2018-03-16     321.350  2.610712   -1.414284    6058612.0     NaN\n",
       "2018-03-19     313.560  3.578002   -0.928910    7440766.0     NaN\n",
       "2018-03-20     310.550  2.425832   -1.371995    4726182.0     NaN\n",
       "2018-03-21     316.530  3.949192    2.024174    5927881.0     NaN\n",
       "2018-03-22     309.100  3.452528   -1.526012    4914307.0     NaN\n",
       "2018-03-23     301.540  3.714428   -3.119679    6600538.0     NaN\n",
       "2018-03-26     304.180  5.570428   -1.028177    8324639.0     NaN\n",
       "2018-03-27     279.180  9.773432   -8.164474   13696168.0     NaN"
      ]
     },
     "execution_count": 11,
     "metadata": {},
     "output_type": "execute_result"
    }
   ],
   "source": [
    "df['label'] = df[predict_col].shift(-predict_out)    # Add a new column, but leave the last \"predict_out\" days blank for our prediction\n",
    "df.tail(30)"
   ]
  },
  {
   "cell_type": "code",
   "execution_count": 12,
   "id": "382e68d7",
   "metadata": {},
   "outputs": [
    {
     "data": {
      "text/html": [
       "<div>\n",
       "<style scoped>\n",
       "    .dataframe tbody tr th:only-of-type {\n",
       "        vertical-align: middle;\n",
       "    }\n",
       "\n",
       "    .dataframe tbody tr th {\n",
       "        vertical-align: top;\n",
       "    }\n",
       "\n",
       "    .dataframe thead th {\n",
       "        text-align: right;\n",
       "    }\n",
       "</style>\n",
       "<table border=\"1\" class=\"dataframe\">\n",
       "  <thead>\n",
       "    <tr style=\"text-align: right;\">\n",
       "      <th></th>\n",
       "      <th>Adj. Close</th>\n",
       "      <th>HL_PCT</th>\n",
       "      <th>PCT_Change</th>\n",
       "      <th>Adj. Volume</th>\n",
       "      <th>label</th>\n",
       "    </tr>\n",
       "    <tr>\n",
       "      <th>Date</th>\n",
       "      <th></th>\n",
       "      <th></th>\n",
       "      <th></th>\n",
       "      <th></th>\n",
       "      <th></th>\n",
       "    </tr>\n",
       "  </thead>\n",
       "  <tbody>\n",
       "    <tr>\n",
       "      <th>2010-06-29</th>\n",
       "      <td>23.89</td>\n",
       "      <td>42.531357</td>\n",
       "      <td>25.736842</td>\n",
       "      <td>18766300.0</td>\n",
       "      <td>20.72</td>\n",
       "    </tr>\n",
       "    <tr>\n",
       "      <th>2010-06-30</th>\n",
       "      <td>23.83</td>\n",
       "      <td>30.554506</td>\n",
       "      <td>-7.599845</td>\n",
       "      <td>17187100.0</td>\n",
       "      <td>20.35</td>\n",
       "    </tr>\n",
       "    <tr>\n",
       "      <th>2010-07-01</th>\n",
       "      <td>21.96</td>\n",
       "      <td>27.873705</td>\n",
       "      <td>-12.160000</td>\n",
       "      <td>8218800.0</td>\n",
       "      <td>19.94</td>\n",
       "    </tr>\n",
       "    <tr>\n",
       "      <th>2010-07-02</th>\n",
       "      <td>19.20</td>\n",
       "      <td>23.463389</td>\n",
       "      <td>-16.521739</td>\n",
       "      <td>5139800.0</td>\n",
       "      <td>20.92</td>\n",
       "    </tr>\n",
       "    <tr>\n",
       "      <th>2010-07-06</th>\n",
       "      <td>16.11</td>\n",
       "      <td>26.342388</td>\n",
       "      <td>-19.450000</td>\n",
       "      <td>6866900.0</td>\n",
       "      <td>21.95</td>\n",
       "    </tr>\n",
       "  </tbody>\n",
       "</table>\n",
       "</div>"
      ],
      "text/plain": [
       "            Adj. Close     HL_PCT  PCT_Change  Adj. Volume  label\n",
       "Date                                                             \n",
       "2010-06-29       23.89  42.531357   25.736842   18766300.0  20.72\n",
       "2010-06-30       23.83  30.554506   -7.599845   17187100.0  20.35\n",
       "2010-07-01       21.96  27.873705  -12.160000    8218800.0  19.94\n",
       "2010-07-02       19.20  23.463389  -16.521739    5139800.0  20.92\n",
       "2010-07-06       16.11  26.342388  -19.450000    6866900.0  21.95"
      ]
     },
     "execution_count": 12,
     "metadata": {},
     "output_type": "execute_result"
    }
   ],
   "source": [
    "df.dropna(inplace=True)    # Since we shift up the Adj. Close and copy it to the label columnn\n",
    "                           # Label column will have 20 NaN"
   ]
  },
  {
   "cell_type": "markdown",
   "id": "bea0b267",
   "metadata": {},
   "source": [
    "Currently, we have data that comprises our features & labels.\n",
    "\n",
    "Next, we will do some **preprocessing** and final steps to actually start running everything."
   ]
  },
  {
   "cell_type": "markdown",
   "id": "4851a50a",
   "metadata": {},
   "source": [
    "### Let's preprocess & train!!!\n",
    "In Machine Learning, it's typical to define:\n",
    "- X: features  --> Entire df EXCEPT for the label column\n",
    "- y: labels corresponding to the features  -->  Only the label column"
   ]
  },
  {
   "cell_type": "code",
   "execution_count": 13,
   "id": "4f206bbc",
   "metadata": {},
   "outputs": [],
   "source": [
    "X = np.array(df.drop(['label'], axis=1))\n",
    "y = np.array(df['label'])"
   ]
  },
  {
   "cell_type": "markdown",
   "id": "e066c1ce",
   "metadata": {},
   "source": [
    "We could leave it at this, and move on to training and testing, but we're going to do some pre-processing. \n",
    "\n",
    "#### Preprocess - Scale \n",
    "\n",
    "- **Generally, you want your features in machine learning to be in a range of -1 to 1. This may do nothing, but it usually speeds up processing and can also help with accuracy.**\n",
    "\n",
    "- Because this range is so popularly used, **it is included in the preprocessing module of Scikit-Learn**. To utilize this, you can apply preprocessing.scale to your X variable:\n",
    "\n",
    "- **WARNING: [Risk of data leak!!](https://scikit-learn.org/stable/modules/generated/sklearn.preprocessing.scale.html)**\n",
    "    - Do not use scale unless you know what you are doing. A common mistake is to apply it to the entire data before splitting into training and test sets.\n",
    "    - This will bias the model evaluation because information would have leaked from the test set to the training set"
   ]
  },
  {
   "cell_type": "code",
   "execution_count": 14,
   "id": "1e86d518",
   "metadata": {},
   "outputs": [],
   "source": [
    "X = preprocessing.scale(X)"
   ]
  },
  {
   "cell_type": "markdown",
   "id": "53f13867",
   "metadata": {},
   "source": [
    "### Training\n",
    "- Split data into training set & validation set\n",
    "-  There are many ways to do this, but, probably the best way is using the build in **cross_validation.train_test_split** provided, since this also _shuffles your data for you_.\n",
    "\n",
    "    - **cross_validation is deprecated in the latest version** --> It's changed to [cross_validate](https://scikit-learn.org/stable/modules/generated/sklearn.model_selection.cross_validate.html) and doesn't include the train_test_split method\n",
    "    - [**Use sklearn.model_selection.train_test_split instead!**](https://scikit-learn.org/stable/modules/generated/sklearn.model_selection.train_test_split.html)\n",
    "    - Also try out [fstring](https://realpython.com/python-f-strings/#f-strings-a-new-and-improved-way-to-format-strings-in-python), fun!\n",
    "    \n",
    "Return here is the training set of features, testing set of features, training set of labels, and testing set of labels"
   ]
  },
  {
   "cell_type": "code",
   "execution_count": 60,
   "id": "f6660daf",
   "metadata": {},
   "outputs": [
    {
     "name": "stdout",
     "output_type": "stream",
     "text": [
      "len of X_train = 1485\n",
      "len of X_test = 444\n"
     ]
    }
   ],
   "source": [
    "X_train, X_test, y_train, y_test = train_test_split(X, y, test_size=0.23)\n",
    "print(f\"len of X_train = {len(X_train)}\")\n",
    "print(f\"len of X_test = {len(X_test)}\")"
   ]
  },
  {
   "cell_type": "markdown",
   "id": "38ba5224",
   "metadata": {},
   "source": [
    "#### Defining our Model\n",
    "- Let's first try out Support Vector Regression, [svm](https://scikit-learn.org/stable/modules/generated/sklearn.svm.SVR.html)"
   ]
  },
  {
   "cell_type": "code",
   "execution_count": 61,
   "id": "4ff8a34a",
   "metadata": {},
   "outputs": [],
   "source": [
    "training_model = svm.SVR(kernel='linear') \n",
    "training_model_for_comparison = svm.SVR(kernel='sigmoid')"
   ]
  },
  {
   "cell_type": "markdown",
   "id": "4d5a06dc",
   "metadata": {},
   "source": [
    "Once you have defined the classifer, you're ready to train it. \n",
    "\n",
    "With sklearn, you train with **.fit**:"
   ]
  },
  {
   "cell_type": "code",
   "execution_count": 62,
   "id": "234108e1",
   "metadata": {},
   "outputs": [
    {
     "data": {
      "text/plain": [
       "SVR(kernel='sigmoid')"
      ]
     },
     "execution_count": 62,
     "metadata": {},
     "output_type": "execute_result"
    }
   ],
   "source": [
    "training_model.fit(X_train, y_train)\n",
    "training_model_for_comparison.fit(X_train, y_train)"
   ]
  },
  {
   "cell_type": "markdown",
   "id": "397105bb",
   "metadata": {},
   "source": [
    "Our model is now trained. \n",
    "\n",
    "Wow that was easy! Now we can test it!"
   ]
  },
  {
   "cell_type": "code",
   "execution_count": 63,
   "id": "82b7e5ac",
   "metadata": {},
   "outputs": [
    {
     "name": "stdout",
     "output_type": "stream",
     "text": [
      "Model: svm.SVR(kernel='linear')\n",
      "confidence = 0.9606939988022062\n",
      "Model: svm.SVR(kernel='sigmoid')\n",
      "confidence_for_comparison = 0.926700865613112\n"
     ]
    }
   ],
   "source": [
    "confidence = training_model.score(X_test, y_test)\n",
    "confidence_for_comparison = training_model_for_comparison.score(X_test,y_test)\n",
    "print(\"Model: svm.SVR(kernel='linear')\")\n",
    "print(f\"confidence = {confidence}\")\n",
    "print(\"Model: svm.SVR(kernel='sigmoid')\")\n",
    "print(f\"confidence_for_comparison = {confidence_for_comparison}\")"
   ]
  },
  {
   "cell_type": "markdown",
   "id": "832b21ff",
   "metadata": {},
   "source": [
    "Let's try another classifier, this time using **LinearRegression** from sklearn:"
   ]
  },
  {
   "cell_type": "code",
   "execution_count": 64,
   "id": "8d48d94c",
   "metadata": {},
   "outputs": [
    {
     "data": {
      "text/plain": [
       "LinearRegression()"
      ]
     },
     "execution_count": 64,
     "metadata": {},
     "output_type": "execute_result"
    }
   ],
   "source": [
    "training_model = LinearRegression()\n",
    "training_model.fit(X_train, y_train)"
   ]
  },
  {
   "cell_type": "code",
   "execution_count": 65,
   "id": "df641230",
   "metadata": {},
   "outputs": [
    {
     "name": "stdout",
     "output_type": "stream",
     "text": [
      "Model: LinearRegression()\n",
      "confidence = 0.9613802968237725\n"
     ]
    }
   ],
   "source": [
    "confidence = training_model.score(X_test, y_test)\n",
    "print(\"Model: LinearRegression()\")\n",
    "print(f\"confidence = {confidence}\")"
   ]
  },
  {
   "cell_type": "markdown",
   "id": "f605ee42",
   "metadata": {},
   "source": [
    "Q) How might we know, as scientists, which algorithm to choose?\n",
    "\n",
    "After a while, you will get used to what works in most situations and what doesn't. You can also check out: [choosing the right estimator from scikit-learn's website](https://scikit-learn.org/stable/tutorial/machine_learning_map/).\n",
    "\n",
    "#### Other notes on the results\n",
    "- some of the algorithms must run linearly, others not. Do not confuse linear regression with the requirement to run linearly, by the way. \n",
    "- Some of the ML algorithms will process **one step at a time, with no threading, others can thread and use all the CPU cores you have available**. You could learn a lot about each algorithm to figure out which ones can thread, or you can visit the documentation, and **look for the n_jobs parameter. If it has n_jobs, you have an algorithm that can be threaded** for high performance.\n",
    "- There is a parameter to svm.SVR which is kernel. What's this? \n",
    "    - **Think of a kernel like a transformation against your data. It's a way to grossly, and I mean grossly, simplify your data. This makes processing go much faster** e.g. kernel='linear','sigmoid'\n",
    "    - As we can see, the linear kernel performed the best, sigmoid is just not good enough"
   ]
  },
  {
   "cell_type": "markdown",
   "id": "565d0cd2",
   "metadata": {},
   "source": [
    "### Next Goal:\n",
    "- Move foward to predict the label"
   ]
  },
  {
   "cell_type": "code",
   "execution_count": null,
   "id": "79c73c7b",
   "metadata": {},
   "outputs": [],
   "source": []
  }
 ],
 "metadata": {
  "kernelspec": {
   "display_name": "Python 3",
   "language": "python",
   "name": "python3"
  },
  "language_info": {
   "codemirror_mode": {
    "name": "ipython",
    "version": 3
   },
   "file_extension": ".py",
   "mimetype": "text/x-python",
   "name": "python",
   "nbconvert_exporter": "python",
   "pygments_lexer": "ipython3",
   "version": "3.9.2"
  }
 },
 "nbformat": 4,
 "nbformat_minor": 5
}
